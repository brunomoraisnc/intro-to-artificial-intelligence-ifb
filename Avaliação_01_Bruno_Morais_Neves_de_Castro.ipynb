{
  "nbformat": 4,
  "nbformat_minor": 0,
  "metadata": {
    "colab": {
      "name": "Avaliação 01 Bruno Morais Neves de Castro",
      "version": "0.3.2",
      "provenance": [],
      "collapsed_sections": [],
      "toc_visible": true,
      "include_colab_link": true
    },
    "kernelspec": {
      "display_name": "Python 3",
      "language": "python",
      "name": "python3"
    }
  },
  "cells": [
    {
      "cell_type": "markdown",
      "metadata": {
        "id": "view-in-github",
        "colab_type": "text"
      },
      "source": [
        "<a href=\"https://colab.research.google.com/github/brunomoraisnc/intro-to-artificial-intelligence-ifb/blob/master/Avalia%C3%A7%C3%A3o_01_Bruno_Morais_Neves_de_Castro.ipynb\" target=\"_parent\"><img src=\"https://colab.research.google.com/assets/colab-badge.svg\" alt=\"Open In Colab\"/></a>"
      ]
    },
    {
      "cell_type": "markdown",
      "metadata": {
        "id": "b0NkmCxQRb7U",
        "colab_type": "text"
      },
      "source": [
        "# Instituto Federal de Brasília\n",
        "\n",
        "#### ALUNO: BRUNO MORAIS NEVES DE CASTRO\n",
        "\n",
        "#### Tecnologia em Sistemas para Internet\n",
        "\n",
        "Brasília, 17 de Setembro de 2018"
      ]
    },
    {
      "cell_type": "markdown",
      "metadata": {
        "id": "EKTY1UCORb7V",
        "colab_type": "text"
      },
      "source": [
        "# Base de Dados"
      ]
    },
    {
      "cell_type": "markdown",
      "metadata": {
        "id": "P5sOn_LaRb7W",
        "colab_type": "text"
      },
      "source": [
        "\n",
        "### 1.Escolher uma base de classificação do repositório UCI – machine learning\n",
        "A base escolhida foi a Qualitative Bankruptcy (https://archive.ics.uci.edu/ml/datasets/Qualitative_Bankruptcy). \n",
        "\n",
        "\n",
        "   "
      ]
    },
    {
      "cell_type": "markdown",
      "metadata": {
        "id": "1u9uF-uxRb7W",
        "colab_type": "text"
      },
      "source": [
        "### 2.Fazer uma breve descrição sobre a base e o problema a ser resolvido\n",
        "Trata-se de um conjunto de análises de especialistas em indicadores de falência levantado pelo artigo \"The discovery of experts’ decision rules from qualitative bankruptcy data using genetic algorithms\", elaborado por Myoung-Jong Kim e Ingoo Han\n",
        "(http://citeseerx.ist.psu.edu/viewdoc/download?doi=10.1.1.97.3314&rep=rep1&type=pdf) . O compilado foi construído a partir do seguinte questionário de um considerável banco da Índia:\n",
        "\n",
        "- #### Vetor de características:\n",
        "\n",
        "    IR Industrial Risk: {P,A,N}\n",
        "    \n",
        "    MR Management Risk: {P,A,N} \n",
        "    \n",
        "    FF Financial Flexibility: {P,A,N} \n",
        "    \n",
        "    CR Credibility: {P,A,N} \n",
        "    \n",
        "    CO Competitiveness: {P,A,N} \n",
        "    \n",
        "    OP Operating Risk: {P,A,N} \n",
        "    \n",
        "    Classe: {B,NB}\n",
        "    \n",
        "P -> Positive; A -> Average; N -> Negative; B -> Bankruptcy; NB -> Non-bankruptcy\n",
        "\n",
        "##### Com o proposto, o objetivo é o treinamento de uma Rede Neural Artificial (RNA) para identificação de possíveis futuros devedores, ou seja, com grande potencial de Bankruptcy (falência)."
      ]
    },
    {
      "cell_type": "markdown",
      "metadata": {
        "id": "_yHVA69SRb7X",
        "colab_type": "text"
      },
      "source": [
        "### 3.Descrever o pré-processamento aplicado nos dados, caso tenha sido necessário, apresentando a fórmula de normalização utilizada, bem como, o intervalo gerado após a transformação.\n",
        "\n",
        "Seguindo o artigo,\n",
        "\n",
        "P -> Positive; A -> Average; N -> Negative; B -> Bankruptcy; NB -> Non-bankruptcy\n",
        "\n",
        "Foi modificado para:\n",
        "\n",
        "1 -> Positive; 2 -> Average; 3 -> Negative; 1 -> Bankruptcy; 0 -> Non-bankruptcy"
      ]
    },
    {
      "cell_type": "code",
      "metadata": {
        "id": "MDEJLdALRb7Y",
        "colab_type": "code",
        "colab": {}
      },
      "source": [
        "# Importação biblioteca Numpy\n",
        "import numpy as np\n",
        "\n",
        "# Importação biblioteca Pandas\n",
        "import pandas as pd\n",
        "\n",
        "# Importação biblioteca Matplotlib\n",
        "from matplotlib import pyplot as plt\n",
        "\n",
        "# Importação do Scikit-learn\n",
        "from sklearn.neural_network import MLPClassifier # Classificador\n",
        "from sklearn.model_selection import train_test_split # Método para divisão de dataframe\n",
        "\n",
        "# Para visualização dos gráficos do Matplotlib gerados no Jupyter Notebook\n",
        "%matplotlib inline"
      ],
      "execution_count": 0,
      "outputs": []
    },
    {
      "cell_type": "code",
      "metadata": {
        "id": "0xyJG_G8Rb7b",
        "colab_type": "code",
        "colab": {}
      },
      "source": [
        "# Leitura do arquivo Comma-separated Values (CSV)\n",
        "data=pd.read_csv('qualitative_bankruptcy_limpo.txt', header=0)"
      ],
      "execution_count": 0,
      "outputs": []
    },
    {
      "cell_type": "markdown",
      "metadata": {
        "id": "lr4LYoxLRb7d",
        "colab_type": "text"
      },
      "source": [
        "#### 3.1 Visualização do Data Set"
      ]
    },
    {
      "cell_type": "code",
      "metadata": {
        "id": "Yps05RgnRb7e",
        "colab_type": "code",
        "outputId": "6932b153-d16a-49df-c06a-846789a20c22",
        "colab": {
          "base_uri": "https://localhost:8080/",
          "height": 204
        }
      },
      "source": [
        "# Início\n",
        "data.head()"
      ],
      "execution_count": 0,
      "outputs": [
        {
          "output_type": "execute_result",
          "data": {
            "text/html": [
              "<div>\n",
              "<style scoped>\n",
              "    .dataframe tbody tr th:only-of-type {\n",
              "        vertical-align: middle;\n",
              "    }\n",
              "\n",
              "    .dataframe tbody tr th {\n",
              "        vertical-align: top;\n",
              "    }\n",
              "\n",
              "    .dataframe thead th {\n",
              "        text-align: right;\n",
              "    }\n",
              "</style>\n",
              "<table border=\"1\" class=\"dataframe\">\n",
              "  <thead>\n",
              "    <tr style=\"text-align: right;\">\n",
              "      <th></th>\n",
              "      <th>IR</th>\n",
              "      <th>MR</th>\n",
              "      <th>FF</th>\n",
              "      <th>CR</th>\n",
              "      <th>CO</th>\n",
              "      <th>OP</th>\n",
              "      <th>Classe</th>\n",
              "    </tr>\n",
              "  </thead>\n",
              "  <tbody>\n",
              "    <tr>\n",
              "      <th>0</th>\n",
              "      <td>3</td>\n",
              "      <td>3</td>\n",
              "      <td>2</td>\n",
              "      <td>2</td>\n",
              "      <td>2</td>\n",
              "      <td>3</td>\n",
              "      <td>0</td>\n",
              "    </tr>\n",
              "    <tr>\n",
              "      <th>1</th>\n",
              "      <td>1</td>\n",
              "      <td>1</td>\n",
              "      <td>2</td>\n",
              "      <td>2</td>\n",
              "      <td>2</td>\n",
              "      <td>1</td>\n",
              "      <td>0</td>\n",
              "    </tr>\n",
              "    <tr>\n",
              "      <th>2</th>\n",
              "      <td>2</td>\n",
              "      <td>2</td>\n",
              "      <td>2</td>\n",
              "      <td>2</td>\n",
              "      <td>2</td>\n",
              "      <td>2</td>\n",
              "      <td>0</td>\n",
              "    </tr>\n",
              "    <tr>\n",
              "      <th>3</th>\n",
              "      <td>3</td>\n",
              "      <td>3</td>\n",
              "      <td>3</td>\n",
              "      <td>3</td>\n",
              "      <td>3</td>\n",
              "      <td>3</td>\n",
              "      <td>0</td>\n",
              "    </tr>\n",
              "    <tr>\n",
              "      <th>4</th>\n",
              "      <td>1</td>\n",
              "      <td>1</td>\n",
              "      <td>3</td>\n",
              "      <td>3</td>\n",
              "      <td>3</td>\n",
              "      <td>1</td>\n",
              "      <td>0</td>\n",
              "    </tr>\n",
              "  </tbody>\n",
              "</table>\n",
              "</div>"
            ],
            "text/plain": [
              "   IR  MR  FF  CR  CO  OP  Classe\n",
              "0   3   3   2   2   2   3       0\n",
              "1   1   1   2   2   2   1       0\n",
              "2   2   2   2   2   2   2       0\n",
              "3   3   3   3   3   3   3       0\n",
              "4   1   1   3   3   3   1       0"
            ]
          },
          "metadata": {
            "tags": []
          },
          "execution_count": 3
        }
      ]
    },
    {
      "cell_type": "code",
      "metadata": {
        "id": "VCxEqEAvRb7i",
        "colab_type": "code",
        "outputId": "607eed38-02fc-4a93-cc6b-921b51255dc6",
        "colab": {
          "base_uri": "https://localhost:8080/",
          "height": 204
        }
      },
      "source": [
        "# Fim\n",
        "data.tail()"
      ],
      "execution_count": 0,
      "outputs": [
        {
          "output_type": "execute_result",
          "data": {
            "text/html": [
              "<div>\n",
              "<style scoped>\n",
              "    .dataframe tbody tr th:only-of-type {\n",
              "        vertical-align: middle;\n",
              "    }\n",
              "\n",
              "    .dataframe tbody tr th {\n",
              "        vertical-align: top;\n",
              "    }\n",
              "\n",
              "    .dataframe thead th {\n",
              "        text-align: right;\n",
              "    }\n",
              "</style>\n",
              "<table border=\"1\" class=\"dataframe\">\n",
              "  <thead>\n",
              "    <tr style=\"text-align: right;\">\n",
              "      <th></th>\n",
              "      <th>IR</th>\n",
              "      <th>MR</th>\n",
              "      <th>FF</th>\n",
              "      <th>CR</th>\n",
              "      <th>CO</th>\n",
              "      <th>OP</th>\n",
              "      <th>Classe</th>\n",
              "    </tr>\n",
              "  </thead>\n",
              "  <tbody>\n",
              "    <tr>\n",
              "      <th>245</th>\n",
              "      <td>1</td>\n",
              "      <td>1</td>\n",
              "      <td>2</td>\n",
              "      <td>1</td>\n",
              "      <td>1</td>\n",
              "      <td>1</td>\n",
              "      <td>1</td>\n",
              "    </tr>\n",
              "    <tr>\n",
              "      <th>246</th>\n",
              "      <td>3</td>\n",
              "      <td>1</td>\n",
              "      <td>1</td>\n",
              "      <td>1</td>\n",
              "      <td>1</td>\n",
              "      <td>1</td>\n",
              "      <td>1</td>\n",
              "    </tr>\n",
              "    <tr>\n",
              "      <th>247</th>\n",
              "      <td>2</td>\n",
              "      <td>1</td>\n",
              "      <td>1</td>\n",
              "      <td>1</td>\n",
              "      <td>1</td>\n",
              "      <td>1</td>\n",
              "      <td>1</td>\n",
              "    </tr>\n",
              "    <tr>\n",
              "      <th>248</th>\n",
              "      <td>1</td>\n",
              "      <td>1</td>\n",
              "      <td>1</td>\n",
              "      <td>1</td>\n",
              "      <td>1</td>\n",
              "      <td>1</td>\n",
              "      <td>1</td>\n",
              "    </tr>\n",
              "    <tr>\n",
              "      <th>249</th>\n",
              "      <td>3</td>\n",
              "      <td>1</td>\n",
              "      <td>1</td>\n",
              "      <td>1</td>\n",
              "      <td>2</td>\n",
              "      <td>2</td>\n",
              "      <td>1</td>\n",
              "    </tr>\n",
              "  </tbody>\n",
              "</table>\n",
              "</div>"
            ],
            "text/plain": [
              "     IR  MR  FF  CR  CO  OP  Classe\n",
              "245   1   1   2   1   1   1       1\n",
              "246   3   1   1   1   1   1       1\n",
              "247   2   1   1   1   1   1       1\n",
              "248   1   1   1   1   1   1       1\n",
              "249   3   1   1   1   2   2       1"
            ]
          },
          "metadata": {
            "tags": []
          },
          "execution_count": 4
        }
      ]
    },
    {
      "cell_type": "code",
      "metadata": {
        "id": "zzyUy_u5Rb7l",
        "colab_type": "code",
        "outputId": "8ad5af68-712f-453a-e335-f07cb8ba8729",
        "colab": {
          "base_uri": "https://localhost:8080/",
          "height": 221
        }
      },
      "source": [
        "# Checagem de colunas e valores por coluna\n",
        "data.info()"
      ],
      "execution_count": 0,
      "outputs": [
        {
          "output_type": "stream",
          "text": [
            "<class 'pandas.core.frame.DataFrame'>\n",
            "RangeIndex: 250 entries, 0 to 249\n",
            "Data columns (total 7 columns):\n",
            "IR        250 non-null int64\n",
            "MR        250 non-null int64\n",
            "FF        250 non-null int64\n",
            "CR        250 non-null int64\n",
            "CO        250 non-null int64\n",
            "OP        250 non-null int64\n",
            "Classe    250 non-null int64\n",
            "dtypes: int64(7)\n",
            "memory usage: 13.8 KB\n"
          ],
          "name": "stdout"
        }
      ]
    },
    {
      "cell_type": "markdown",
      "metadata": {
        "id": "YiIuf3g9Rb7o",
        "colab_type": "text"
      },
      "source": [
        "#### 3.2 Etapa de Normalização"
      ]
    },
    {
      "cell_type": "markdown",
      "metadata": {
        "id": "svEuJcheRb7p",
        "colab_type": "text"
      },
      "source": [
        "#### 3.2.1 Separando o vetor de caraterísticas\n",
        "- X -> características\n",
        "- y -> respostas"
      ]
    },
    {
      "cell_type": "markdown",
      "metadata": {
        "id": "5guAa5xTRb7q",
        "colab_type": "text"
      },
      "source": [
        "#!jupyter nbconvert --to script Neural_network_trabalho012.ipynb"
      ]
    },
    {
      "cell_type": "code",
      "metadata": {
        "id": "HRc3VfvhRb7q",
        "colab_type": "code",
        "colab": {}
      },
      "source": [
        "# y é um array numpy que contém os valores da coluna Classe (O .values que transforma para np.array)\n",
        "y = data.loc[:,'Classe'].values\n",
        "\n",
        "# X é um dataframe do Pandas com os valores das demais colunas\n",
        "X = data.drop('Classe', 1)"
      ],
      "execution_count": 0,
      "outputs": []
    },
    {
      "cell_type": "code",
      "metadata": {
        "id": "0qCJdSQSRb7s",
        "colab_type": "code",
        "outputId": "62d7454a-ded9-4c32-de78-37ce349a4969",
        "colab": {
          "base_uri": "https://localhost:8080/",
          "height": 34
        }
      },
      "source": [
        "# Colunas de X\n",
        "X.columns"
      ],
      "execution_count": 0,
      "outputs": [
        {
          "output_type": "execute_result",
          "data": {
            "text/plain": [
              "Index(['IR', 'MR', 'FF', 'CR', 'CO', 'OP'], dtype='object')"
            ]
          },
          "metadata": {
            "tags": []
          },
          "execution_count": 7
        }
      ]
    },
    {
      "cell_type": "code",
      "metadata": {
        "id": "-rWzHFNBRb7v",
        "colab_type": "code",
        "outputId": "1859c46b-f084-45b1-fe7b-239a364e0816",
        "colab": {
          "base_uri": "https://localhost:8080/",
          "height": 102
        }
      },
      "source": [
        "# Valores de y\n",
        "print('y HEAD')\n",
        "print(y[0:5])\n",
        "print('\\ny TAIL')\n",
        "print(y[245:250])"
      ],
      "execution_count": 0,
      "outputs": [
        {
          "output_type": "stream",
          "text": [
            "y HEAD\n",
            "[0 0 0 0 0]\n",
            "\n",
            "y TAIL\n",
            "[1 1 1 1 1]\n"
          ],
          "name": "stdout"
        }
      ]
    },
    {
      "cell_type": "markdown",
      "metadata": {
        "id": "_c01c36KRb7y",
        "colab_type": "text"
      },
      "source": [
        "#### 3.2.2 Fórmula de Normalização utilizada:\n",
        "(X-X.min())/(X.max()-X.min()) - COLOCAR IMG DPS"
      ]
    },
    {
      "cell_type": "code",
      "metadata": {
        "id": "HuTqaK_ARb7z",
        "colab_type": "code",
        "outputId": "9639d7dd-bee6-4b69-ed31-64f98b1c79c5",
        "colab": {
          "base_uri": "https://localhost:8080/",
          "height": 204
        }
      },
      "source": [
        "# Fórmula de normalização\n",
        "X=(X-X.min())/(X.max()-X.min())\n",
        "#normalized_df=(X-X.mean())/X.std()\n",
        "\n",
        "# Visualização pós-normalização\n",
        "X.head()"
      ],
      "execution_count": 0,
      "outputs": [
        {
          "output_type": "execute_result",
          "data": {
            "text/html": [
              "<div>\n",
              "<style scoped>\n",
              "    .dataframe tbody tr th:only-of-type {\n",
              "        vertical-align: middle;\n",
              "    }\n",
              "\n",
              "    .dataframe tbody tr th {\n",
              "        vertical-align: top;\n",
              "    }\n",
              "\n",
              "    .dataframe thead th {\n",
              "        text-align: right;\n",
              "    }\n",
              "</style>\n",
              "<table border=\"1\" class=\"dataframe\">\n",
              "  <thead>\n",
              "    <tr style=\"text-align: right;\">\n",
              "      <th></th>\n",
              "      <th>IR</th>\n",
              "      <th>MR</th>\n",
              "      <th>FF</th>\n",
              "      <th>CR</th>\n",
              "      <th>CO</th>\n",
              "      <th>OP</th>\n",
              "    </tr>\n",
              "  </thead>\n",
              "  <tbody>\n",
              "    <tr>\n",
              "      <th>0</th>\n",
              "      <td>1.0</td>\n",
              "      <td>1.0</td>\n",
              "      <td>0.5</td>\n",
              "      <td>0.5</td>\n",
              "      <td>0.5</td>\n",
              "      <td>1.0</td>\n",
              "    </tr>\n",
              "    <tr>\n",
              "      <th>1</th>\n",
              "      <td>0.0</td>\n",
              "      <td>0.0</td>\n",
              "      <td>0.5</td>\n",
              "      <td>0.5</td>\n",
              "      <td>0.5</td>\n",
              "      <td>0.0</td>\n",
              "    </tr>\n",
              "    <tr>\n",
              "      <th>2</th>\n",
              "      <td>0.5</td>\n",
              "      <td>0.5</td>\n",
              "      <td>0.5</td>\n",
              "      <td>0.5</td>\n",
              "      <td>0.5</td>\n",
              "      <td>0.5</td>\n",
              "    </tr>\n",
              "    <tr>\n",
              "      <th>3</th>\n",
              "      <td>1.0</td>\n",
              "      <td>1.0</td>\n",
              "      <td>1.0</td>\n",
              "      <td>1.0</td>\n",
              "      <td>1.0</td>\n",
              "      <td>1.0</td>\n",
              "    </tr>\n",
              "    <tr>\n",
              "      <th>4</th>\n",
              "      <td>0.0</td>\n",
              "      <td>0.0</td>\n",
              "      <td>1.0</td>\n",
              "      <td>1.0</td>\n",
              "      <td>1.0</td>\n",
              "      <td>0.0</td>\n",
              "    </tr>\n",
              "  </tbody>\n",
              "</table>\n",
              "</div>"
            ],
            "text/plain": [
              "    IR   MR   FF   CR   CO   OP\n",
              "0  1.0  1.0  0.5  0.5  0.5  1.0\n",
              "1  0.0  0.0  0.5  0.5  0.5  0.0\n",
              "2  0.5  0.5  0.5  0.5  0.5  0.5\n",
              "3  1.0  1.0  1.0  1.0  1.0  1.0\n",
              "4  0.0  0.0  1.0  1.0  1.0  0.0"
            ]
          },
          "metadata": {
            "tags": []
          },
          "execution_count": 9
        }
      ]
    },
    {
      "cell_type": "markdown",
      "metadata": {
        "id": "PS_4K8_aRb73",
        "colab_type": "text"
      },
      "source": [
        "##### 3.2.3 INTERVALO GERADO APÓS A TRANSFORMAÇÃO:\n",
        "- 0 a 1"
      ]
    },
    {
      "cell_type": "code",
      "metadata": {
        "id": "tMtwOaNJRb75",
        "colab_type": "code",
        "outputId": "a6139368-23c2-4a43-bfc1-8ea40543c07a",
        "colab": {
          "base_uri": "https://localhost:8080/",
          "height": 136
        }
      },
      "source": [
        "X.min()"
      ],
      "execution_count": 0,
      "outputs": [
        {
          "output_type": "execute_result",
          "data": {
            "text/plain": [
              "IR    0.0\n",
              "MR    0.0\n",
              "FF    0.0\n",
              "CR    0.0\n",
              "CO    0.0\n",
              "OP    0.0\n",
              "dtype: float64"
            ]
          },
          "metadata": {
            "tags": []
          },
          "execution_count": 10
        }
      ]
    },
    {
      "cell_type": "code",
      "metadata": {
        "id": "I3UTeslKRb77",
        "colab_type": "code",
        "outputId": "61c382a3-5ba0-4c60-a453-11eee84de778",
        "colab": {
          "base_uri": "https://localhost:8080/",
          "height": 136
        }
      },
      "source": [
        "X.max()"
      ],
      "execution_count": 0,
      "outputs": [
        {
          "output_type": "execute_result",
          "data": {
            "text/plain": [
              "IR    1.0\n",
              "MR    1.0\n",
              "FF    1.0\n",
              "CR    1.0\n",
              "CO    1.0\n",
              "OP    1.0\n",
              "dtype: float64"
            ]
          },
          "metadata": {
            "tags": []
          },
          "execution_count": 11
        }
      ]
    },
    {
      "cell_type": "markdown",
      "metadata": {
        "id": "UTs5RLbSRb7_",
        "colab_type": "text"
      },
      "source": [
        "### 4.Explicar como foi feita a divisão da base para treinamento e teste"
      ]
    },
    {
      "cell_type": "code",
      "metadata": {
        "id": "2Myl65uORb8A",
        "colab_type": "code",
        "colab": {}
      },
      "source": [
        "# Método train_test_split do Scikit-learn\n",
        "X_train, X_test, y_train, y_test = train_test_split(X,  y, random_state=21, test_size=0.6, stratify=y)\n",
        "#21"
      ],
      "execution_count": 0,
      "outputs": []
    },
    {
      "cell_type": "code",
      "metadata": {
        "id": "X0KsK_2lRb8E",
        "colab_type": "code",
        "outputId": "95ca2b2a-f99f-4661-81f1-f53f118c8c79",
        "colab": {
          "base_uri": "https://localhost:8080/",
          "height": 68
        }
      },
      "source": [
        "print('Proporção de Y_train:')\n",
        "# Non-bankrupt\n",
        "print(len(y_train[y_train == 0]) / len(y[y == 0]))\n",
        "# Bankrupt\n",
        "print(len(y_train[y_train == 1]) / len(y[y == 1]))"
      ],
      "execution_count": 0,
      "outputs": [
        {
          "output_type": "stream",
          "text": [
            "Proporção de Y_train:\n",
            "0.3986013986013986\n",
            "0.40186915887850466\n"
          ],
          "name": "stdout"
        }
      ]
    },
    {
      "cell_type": "code",
      "metadata": {
        "id": "ih-7bPbaRb8H",
        "colab_type": "code",
        "outputId": "7da27fb7-d690-409f-ac2c-5b18aacd6205",
        "colab": {
          "base_uri": "https://localhost:8080/",
          "height": 204
        }
      },
      "source": [
        "# X para TREINAMENTO\n",
        "X_train.info()"
      ],
      "execution_count": 0,
      "outputs": [
        {
          "output_type": "stream",
          "text": [
            "<class 'pandas.core.frame.DataFrame'>\n",
            "Int64Index: 100 entries, 21 to 27\n",
            "Data columns (total 6 columns):\n",
            "IR    100 non-null float64\n",
            "MR    100 non-null float64\n",
            "FF    100 non-null float64\n",
            "CR    100 non-null float64\n",
            "CO    100 non-null float64\n",
            "OP    100 non-null float64\n",
            "dtypes: float64(6)\n",
            "memory usage: 5.5 KB\n"
          ],
          "name": "stdout"
        }
      ]
    },
    {
      "cell_type": "code",
      "metadata": {
        "id": "4ziLlV59Rb8K",
        "colab_type": "code",
        "outputId": "6eb71a8c-e7fd-495b-c250-6a21a8d70bf6",
        "colab": {
          "base_uri": "https://localhost:8080/",
          "height": 204
        }
      },
      "source": [
        "# X para TESTE\n",
        "X_test.info()"
      ],
      "execution_count": 0,
      "outputs": [
        {
          "output_type": "stream",
          "text": [
            "<class 'pandas.core.frame.DataFrame'>\n",
            "Int64Index: 150 entries, 175 to 186\n",
            "Data columns (total 6 columns):\n",
            "IR    150 non-null float64\n",
            "MR    150 non-null float64\n",
            "FF    150 non-null float64\n",
            "CR    150 non-null float64\n",
            "CO    150 non-null float64\n",
            "OP    150 non-null float64\n",
            "dtypes: float64(6)\n",
            "memory usage: 8.2 KB\n"
          ],
          "name": "stdout"
        }
      ]
    },
    {
      "cell_type": "markdown",
      "metadata": {
        "id": "zQYJEE4VRb8N",
        "colab_type": "text"
      },
      "source": [
        "#### Pelos índices, é possível notar que foram separados randomicamente"
      ]
    },
    {
      "cell_type": "code",
      "metadata": {
        "id": "FvUtep-tRb8O",
        "colab_type": "code",
        "outputId": "71d8f565-5e2a-4f28-96df-3267bc1d8a23",
        "colab": {
          "base_uri": "https://localhost:8080/",
          "height": 34
        }
      },
      "source": [
        "X_train.head(10).index"
      ],
      "execution_count": 0,
      "outputs": [
        {
          "output_type": "execute_result",
          "data": {
            "text/plain": [
              "Int64Index([21, 31, 198, 22, 203, 3, 211, 173, 200, 77], dtype='int64')"
            ]
          },
          "metadata": {
            "tags": []
          },
          "execution_count": 16
        }
      ]
    },
    {
      "cell_type": "code",
      "metadata": {
        "id": "MklMXzbZRb8Q",
        "colab_type": "code",
        "outputId": "2240c50d-bf29-48f0-e9bd-5b6b559fde2f",
        "colab": {
          "base_uri": "https://localhost:8080/",
          "height": 34
        }
      },
      "source": [
        "X_test.head(10).index"
      ],
      "execution_count": 0,
      "outputs": [
        {
          "output_type": "execute_result",
          "data": {
            "text/plain": [
              "Int64Index([175, 90, 223, 227, 188, 165, 135, 124, 187, 185], dtype='int64')"
            ]
          },
          "metadata": {
            "tags": []
          },
          "execution_count": 17
        }
      ]
    },
    {
      "cell_type": "markdown",
      "metadata": {
        "id": "dA8_HI9qRb8T",
        "colab_type": "text"
      },
      "source": [
        "# Arquitetura da RNA"
      ]
    },
    {
      "cell_type": "code",
      "metadata": {
        "id": "3RLzHHENRb8U",
        "colab_type": "code",
        "colab": {}
      },
      "source": [
        "# Cross-validation\n",
        "from sklearn.model_selection import cross_val_score"
      ],
      "execution_count": 0,
      "outputs": []
    },
    {
      "cell_type": "markdown",
      "metadata": {
        "id": "OzdL6pxuRb8W",
        "colab_type": "text"
      },
      "source": [
        "### Classificadores"
      ]
    },
    {
      "cell_type": "markdown",
      "metadata": {
        "id": "lzi1wY95Rb8X",
        "colab_type": "text"
      },
      "source": [
        "### A1 (com Momentum)\n",
        "\n",
        "- função de ativação = rectifier\n",
        "- quantidade máxima de épocas = 1000\n",
        "- taxa de aprendizagem = não específicada, pois só funciona em 'sgd'\n",
        "- termo momentum = 0.7\n",
        "\n",
        "'relu' -> ‘relu’, the rectified linear unit function, returns f(x) = max(0, x)"
      ]
    },
    {
      "cell_type": "code",
      "metadata": {
        "id": "o7k0y5k4Rb8X",
        "colab_type": "code",
        "outputId": "acb5fa86-5594-4126-80a8-16570a74e131",
        "colab": {
          "base_uri": "https://localhost:8080/",
          "height": 51
        }
      },
      "source": [
        "it = np.arange(1,10)\n",
        "#for i in it:\n",
        "#    nn=MLPClassifier(activation='relu', solver='sgd', hidden_layer_sizes=(i,), random_state=1, max_iter=5000, momentum=0.7)\n",
        "#    scores = cross_val_score(nn, X, y, cv=5)\n",
        "#    print(scores.mean().tolist())\n",
        "\n",
        "# Cross-validation\n",
        "nn=MLPClassifier(activation='relu', solver='sgd', hidden_layer_sizes=(5,), random_state=0, max_iter=5000, momentum=0.7)\n",
        "scores = cross_val_score(nn, X, y, cv=5)\n",
        "print('Cross-validation:')\n",
        "scores"
      ],
      "execution_count": 0,
      "outputs": [
        {
          "output_type": "stream",
          "text": [
            "Cross-validation:\n"
          ],
          "name": "stdout"
        },
        {
          "output_type": "execute_result",
          "data": {
            "text/plain": [
              "array([0.96078431, 0.92156863, 0.96      , 0.97959184, 1.        ])"
            ]
          },
          "metadata": {
            "tags": []
          },
          "execution_count": 19
        }
      ]
    },
    {
      "cell_type": "markdown",
      "metadata": {
        "id": "ZUcNxSbkRb8Z",
        "colab_type": "text"
      },
      "source": [
        "#### Indica a melhor configuração de classificador para o df"
      ]
    },
    {
      "cell_type": "markdown",
      "metadata": {
        "id": "vBxQ7_GJRb8a",
        "colab_type": "text"
      },
      "source": [
        "from sklearn.model_selection import GridSearchCV\n",
        "\n",
        "param_grid = [\n",
        "        {\n",
        "            'activation' : ['identity', 'logistic', 'tanh', 'relu'],\n",
        "            'solver' : ['lbfgs', 'sgd', 'adam'],\n",
        "            'hidden_layer_sizes': [(1,),(2,),(3,),(4,),(5,),(6,),(7,),(8,),(9,),(10,),(11,), (12,),(13,),(14,),(15,),(16,),(17,),(18,),(19,),(20,),(21,)]\n",
        "        }\n",
        "]\n",
        "\n",
        "clf = GridSearchCV(nn, param_grid, cv=3, scoring='accuracy')\n",
        "clf.fit(X,y)\n",
        "\n",
        "\n",
        "print(\"Best parameters set found on development set:\")\n",
        "print(clf.best_params_)"
      ]
    },
    {
      "cell_type": "markdown",
      "metadata": {
        "id": "beCk_co9Rb8a",
        "colab_type": "text"
      },
      "source": [
        "### A2 (Melhor classificador indicado)\n",
        "\n",
        "- função de ativação = sigmoid\n",
        "- quantidade máxima de épocas = 1000\n",
        "- taxa de aprendizagem = não específicada, pois só funciona em 'sgd'\n",
        "- termo momentum = não específicada, pois só funciona em 'sgd'\n",
        "\n",
        "logistic -> ‘logistic’, the logistic sigmoid function, returns f(x) = 1 / (1 + exp(-x)).\n",
        "\n",
        "lbfgs -> ‘lbfgs’ is an optimizer in the family of quasi-Newton methods."
      ]
    },
    {
      "cell_type": "code",
      "metadata": {
        "id": "b4J5RLYZRb8b",
        "colab_type": "code",
        "outputId": "35b84f01-df81-4570-f444-ec70f117589f",
        "colab": {
          "base_uri": "https://localhost:8080/",
          "height": 51
        }
      },
      "source": [
        "nn=MLPClassifier(activation='logistic', solver='lbfgs', random_state=0, hidden_layer_sizes=(3,))\n",
        "\n",
        "# Cross-validation\n",
        "scores = cross_val_score(nn, X, y, cv=4)\n",
        "print('Cross-validation:')\n",
        "scores.tolist()"
      ],
      "execution_count": 0,
      "outputs": [
        {
          "output_type": "stream",
          "text": [
            "Cross-validation:\n"
          ],
          "name": "stdout"
        },
        {
          "output_type": "execute_result",
          "data": {
            "text/plain": [
              "[1.0, 1.0, 0.9841269841269841, 1.0]"
            ]
          },
          "metadata": {
            "tags": []
          },
          "execution_count": 20
        }
      ]
    },
    {
      "cell_type": "markdown",
      "metadata": {
        "id": "ccfujiqjRb8e",
        "colab_type": "text"
      },
      "source": [
        "### A3\n",
        "\n",
        "- função de ativação = sigmoid\n",
        "- quantidade máxima de épocas = 1000\n",
        "- taxa de aprendizagem = 0.001\n",
        "\n",
        "logistic -> ‘logistic’, the logistic sigmoid function, returns f(x) = 1 / (1 + exp(-x)).\n",
        "\n",
        "sgd -> ‘sgd’ refers to stochastic gradient descent.\n"
      ]
    },
    {
      "cell_type": "code",
      "metadata": {
        "id": "VKH6V6KzRb8f",
        "colab_type": "code",
        "outputId": "18585743-592c-459c-997c-6427ad86c509",
        "colab": {
          "base_uri": "https://localhost:8080/",
          "height": 119
        }
      },
      "source": [
        "# Testando com diferentes quantidades de neurônios\n",
        "#it = np.arange(1,10)\n",
        "#for i in it:\n",
        "#    nn=MLPClassifier(activation='logistic', solver='sgd', hidden_layer_sizes=(i,), random_state=1, max_iter=1000)\n",
        "#    nn.fit(X_train, y_train)\n",
        "#    nn.score(X_test, y_test)    \n",
        "#    scores = cross_val_score(nn, X, y, cv=5)\n",
        "#    print(scores.tolist())\n",
        "    \n",
        "nn=MLPClassifier(activation='logistic', solver='sgd', hidden_layer_sizes=(3,), random_state=1, max_iter=1000)\n",
        "scores = cross_val_score(nn, X, y, cv=5)\n",
        "print('Cross-validation:')\n",
        "scores.tolist()"
      ],
      "execution_count": 0,
      "outputs": [
        {
          "output_type": "stream",
          "text": [
            "Cross-validation:\n"
          ],
          "name": "stdout"
        },
        {
          "output_type": "execute_result",
          "data": {
            "text/plain": [
              "[0.8823529411764706,\n",
              " 0.9215686274509803,\n",
              " 0.9,\n",
              " 0.7959183673469388,\n",
              " 0.7142857142857143]"
            ]
          },
          "metadata": {
            "tags": []
          },
          "execution_count": 21
        }
      ]
    },
    {
      "cell_type": "markdown",
      "metadata": {
        "id": "LyrlPwzzRb8h",
        "colab_type": "text"
      },
      "source": [
        "### Curva de Aprendizado"
      ]
    },
    {
      "cell_type": "code",
      "metadata": {
        "id": "PvJ7oGrhRb8i",
        "colab_type": "code",
        "outputId": "1f888420-5768-4899-b19d-c43deca47560",
        "colab": {
          "base_uri": "https://localhost:8080/",
          "height": 294
        }
      },
      "source": [
        "from sklearn.model_selection import learning_curve\n",
        "from sklearn.model_selection import ShuffleSplit\n",
        "\n",
        "# Método train_test_split do Scikit-learn\n",
        "X_train, X_test, y_train, y_test = train_test_split(X,  y, random_state=1, test_size=0.6, stratify=y)\n",
        "\n",
        "def plot_learning_curve(estimator, title, X, y, ylim=None, cv=None,\n",
        "                        n_jobs=1, train_sizes=np.linspace(.1, 1.0, 5)):\n",
        "    \"\"\"\n",
        "    Generate a simple plot of the test and training learning curve.\n",
        "\n",
        "    Parameters\n",
        "    ----------\n",
        "    estimator : object type that implements the \"fit\" and \"predict\" methods\n",
        "        An object of that type which is cloned for each validation.\n",
        "\n",
        "    title : string\n",
        "        Title for the chart.\n",
        "\n",
        "    X : array-like, shape (n_samples, n_features)\n",
        "        Training vector, where n_samples is the number of samples and\n",
        "        n_features is the number of features.\n",
        "\n",
        "    y : array-like, shape (n_samples) or (n_samples, n_features), optional\n",
        "        Target relative to X for classification or regression;\n",
        "        None for unsupervised learning.\n",
        "\n",
        "    ylim : tuple, shape (ymin, ymax), optional\n",
        "        Defines minimum and maximum yvalues plotted.\n",
        "\n",
        "    cv : int, cross-validation generator or an iterable, optional\n",
        "        Determines the cross-validation splitting strategy.\n",
        "        Possible inputs for cv are:\n",
        "          - None, to use the default 3-fold cross-validation,\n",
        "          - integer, to specify the number of folds.\n",
        "          - An object to be used as a cross-validation generator.\n",
        "          - An iterable yielding train/test splits.\n",
        "\n",
        "        For integer/None inputs, if ``y`` is binary or multiclass,\n",
        "        :class:`StratifiedKFold` used. If the estimator is not a classifier\n",
        "        or if ``y`` is neither binary nor multiclass, :class:`KFold` is used.\n",
        "\n",
        "        Refer :ref:`User Guide <cross_validation>` for the various\n",
        "        cross-validators that can be used here.\n",
        "\n",
        "    n_jobs : integer, optional\n",
        "        Number of jobs to run in parallel (default 1).\n",
        "    \"\"\"\n",
        "    plt.figure()\n",
        "    plt.title(title)\n",
        "    if ylim is not None:\n",
        "        plt.ylim(*ylim)\n",
        "    plt.xlabel(\"Training examples\")\n",
        "    plt.ylabel(\"Score\")\n",
        "    train_sizes, train_scores, test_scores = learning_curve(\n",
        "        estimator, X, y, cv=cv, n_jobs=n_jobs, train_sizes=train_sizes)\n",
        "    train_scores_mean = np.mean(train_scores, axis=1)\n",
        "    train_scores_std = np.std(train_scores, axis=1)\n",
        "    test_scores_mean = np.mean(test_scores, axis=1)\n",
        "    test_scores_std = np.std(test_scores, axis=1)\n",
        "    plt.grid()\n",
        "\n",
        "    plt.fill_between(train_sizes, train_scores_mean - train_scores_std,\n",
        "                     train_scores_mean + train_scores_std, alpha=0.1,\n",
        "                     color=\"r\")\n",
        "    plt.fill_between(train_sizes, test_scores_mean - test_scores_std,\n",
        "                     test_scores_mean + test_scores_std, alpha=0.1, color=\"g\")\n",
        "    plt.plot(train_sizes, train_scores_mean, 'o-', color=\"r\",\n",
        "             label=\"Training score\")\n",
        "    plt.plot(train_sizes, test_scores_mean, 'o-', color=\"g\",\n",
        "             label=\"Cross-validation score\")\n",
        "\n",
        "    plt.legend(loc=\"best\")\n",
        "    return plt\n",
        "\n",
        "title = \"Curva de Aprendizado\"\n",
        "cv = ShuffleSplit(n_splits=10, test_size=0.2, random_state=0)\n",
        "plot_learning_curve(nn, title, X, y, cv=cv, n_jobs=4)\n",
        "\n",
        "plt.show()"
      ],
      "execution_count": 0,
      "outputs": [
        {
          "output_type": "display_data",
          "data": {
            "image/png": "[encoded data removed]",
            "text/plain": [
              "<matplotlib.figure.Figure at 0x7fd844da06d8>"
            ]
          },
          "metadata": {
            "tags": []
          }
        }
      ]
    },
    {
      "cell_type": "markdown",
      "metadata": {
        "id": "VEzb-1ZjRb8k",
        "colab_type": "text"
      },
      "source": [
        "# Fontes:\n",
        "\n",
        "https://www.one-tab.com/page/IGwIZ-T3R0y7rhSPWyswfQ\n",
        "\n",
        "https://archive.ics.uci.edu/ml/datasets/Qualitative_Bankruptcy#\n",
        "\n",
        "http://citeseerx.ist.psu.edu/viewdoc/download?doi=10.1.1.97.3314&rep=rep1&type=pdf\n",
        "\n",
        "https://machinelearningmastery.com/prepare-data-machine-learning-python-scikit-learn/\n",
        "\n",
        "https://stackoverflow.com/questions/26414913/normalize-columns-of-pandas-data-frame\n",
        "\n",
        "http://scikit-learn.org/stable/modules/preprocessing.html#scaling-features-to-a-range\n",
        "\n",
        "https://juliocprocha.wordpress.com/2017/04/01/bias-e-varianciaunderfitting-e-overfitting/\n",
        "\n",
        "https://machinelearningmastery.com/overfitting-and-underfitting-with-machine-learning-algorithms/\n",
        "\n",
        "http://scikit-learn.org/stable/modules/generated/sklearn.neural_network.MLPClassifier.html\n",
        "\n",
        "https://www.springboard.com/blog/beginners-guide-neural-network-in-python-scikit-learn-0-18/\n",
        "\n",
        "https://machinelearningmastery.com/implement-backpropagation-algorithm-scratch-python/\n",
        "\n",
        "https://www.quora.com/How-do-we-detect-overfitting-and-under-fitting-in-Machine-Learning\n",
        "\n",
        "http://scikit-learn.org/stable/modules/model_evaluation.html\n",
        "\n",
        "https://developers.google.com/machine-learning/crash-course/reducing-loss/stochastic-gradient-descent\n",
        "\n",
        "http://scikit-learn.org/stable/modules/cross_validation.html\n",
        "\n",
        "http://pandas.pydata.org/pandas-docs/version/0.17.0/generated/pandas.DataFrame.drop.html\n",
        "\n",
        "http://scikit-learn.org/stable/modules/generated/sklearn.preprocessing.normalize.html\n",
        "\n",
        "http://scikit-learn.org/stable/modules/generated/sklearn.pipeline.Pipeline.html#sklearn.pipeline.Pipeline\n",
        "\n",
        "http://scikit-learn.org/stable/auto_examples/preprocessing/plot_all_scaling.html#sphx-glr-auto-examples-preprocessing-plot-all-scaling-py\n",
        "\n",
        "http://scikit-learn.org/stable/modules/preprocessing.html\n",
        "\n",
        "https://www.sciencedirect.com/science/article/abs/pii/037872069390064Z\n",
        "\n",
        "https://stackoverflow.com/questions/13411544/delete-column-from-pandas-dataframe-using-del-df-column-name\n",
        "\n",
        "https://www.kaggle.com/ahmethamzaemra/mlpclassifier-example\n",
        "\n",
        "https://www.python-course.eu/neural_networks_with_scikit.php\n",
        "\n",
        "http://scikit-learn.org/stable/modules/generated/sklearn.neural_network.MLPClassifier.html\n",
        "\n",
        "https://campus.datacamp.com/courses/supervised-learning-with-scikit-learn/classification?ex=12\n",
        "\n",
        "https://machinelearningmastery.com/visualize-machine-learning-data-python-pandas/\n",
        "\n",
        "https://machinelearningmastery.com/compare-machine-learning-algorithms-python-scikit-learn/\n",
        "\n",
        "http://scikit-learn.org/stable/tutorial/basic/tutorial.html#learning-and-predicting\n",
        "\n",
        "http://scikit-learn.org/stable/tutorial/statistical_inference/settings.html\n",
        "\n",
        "http://scikit-learn.org/stable/auto_examples/classification/plot_digits_classification.html#sphx-glr-auto-examples-classification-plot-digits-classification-py\n",
        "\n",
        "https://www.youtube.com/watch?v=X8SPO875mQY\n",
        "\n",
        "https://www.kaggle.com/c/digit-recognizer/data"
      ]
    }
  ]
}