{
  "nbformat": 4,
  "nbformat_minor": 0,
  "metadata": {
    "colab": {
      "name": "Questão 10 - Lista de Atividades IA - Genetic Algorithm",
      "version": "0.3.2",
      "provenance": [],
      "collapsed_sections": [],
      "include_colab_link": true
    },
    "kernelspec": {
      "name": "python3",
      "display_name": "Python 3"
    }
  },
  "cells": [
    {
      "cell_type": "markdown",
      "metadata": {
        "id": "view-in-github",
        "colab_type": "text"
      },
      "source": [
        "<a href=\"https://colab.research.google.com/github/brunomoraisnc/intro-to-artificial-intelligence-ifb/blob/master/Quest%C3%A3o_10_Lista_de_Atividades_IA_Genetic_Algorithm.ipynb\" target=\"_parent\"><img src=\"https://colab.research.google.com/assets/colab-badge.svg\" alt=\"Open In Colab\"/></a>"
      ]
    },
    {
      "cell_type": "code",
      "metadata": {
        "id": "wwakx3AD5OHn",
        "colab_type": "code",
        "outputId": "3a6a3836-496f-4a7a-b43e-3ef87c94b1b2",
        "colab": {
          "base_uri": "https://localhost:8080/",
          "height": 221
        }
      },
      "source": [
        "# https://github.com/MorvanZhou/Evolutionary-Algorithm/blob/master/tutorial-contents/Genetic%20Algorithm/Genetic%20Algorithm%20Basic.py\n",
        "\n",
        "\"\"\"\n",
        "Visualize Genetic Algorithm to find a maximum point in a function.\n",
        "Visit my tutorial website for more: https://morvanzhou.github.io/tutorials/\n",
        "\"\"\"\n",
        "import numpy as np\n",
        "import matplotlib.pyplot as plt\n",
        "\n",
        "DNA_SIZE = 6           # Quantidade de genes em cada DNA (DNA length)\n",
        "POP_SIZE = 6           # tamanho da população\n",
        "CROSS_RATE = 0.8       # probabilidade de cruzamento (DNA crossover)\n",
        "MUTATION_RATE = 0.04   # probabilidade de mutação\n",
        "N_GENERATIONS = 2     # número de gerações\n",
        "#X_BOUND = [0, 5]       # x upper and lower bounds\n",
        "  \n",
        "def F(x): return np.power(x,2) # to find the maximum of this function\n",
        "\n",
        "# find fitness for selection\n",
        "def get_fitness(pred): return np.abs(pred - np.max(pred)) / 100\n",
        "\n",
        "\n",
        "# convert binary DNA to decimal\n",
        "def translateDNA(pop): return pop.dot(2 ** np.arange(DNA_SIZE)[::-1])\n",
        "\n",
        "def select(pop, fitness):    # nature selection wrt pop's fitness\n",
        "    idx = np.random.choice(np.arange(POP_SIZE), size=POP_SIZE, replace=True, p=fitness/fitness.sum())\n",
        "    return pop[idx]\n",
        "\n",
        "\n",
        "def crossover(parent, pop):     # mating process (genes crossover)\n",
        "    if np.random.rand() < CROSS_RATE:\n",
        "        # select another individual from pop\n",
        "        i_ = np.random.randint(0, POP_SIZE, size=1)\n",
        "        \n",
        "        # choose crossover points\n",
        "        cross_points = np.random.randint(0, 2, size=DNA_SIZE).astype(np.bool)\n",
        "        \n",
        "        # mating and produce one child\n",
        "        parent[cross_points] = pop[i_, cross_points]\n",
        "    return parent\n",
        "\n",
        "\n",
        "def mutate(child):\n",
        "    for point in range(DNA_SIZE):\n",
        "        if np.random.rand() < MUTATION_RATE:\n",
        "            child[point] = 1 if child[point] == 0 else 0\n",
        "    return child\n",
        "\n",
        "pop = np.array([[0,0,1,1,0,0],[0,1,0,1,0,1],[1,1,1,0,0,0], [0,0,0,1,1,1], [1,0,1,0,1,1], [1,0,1,0,0,0]])\n",
        "\n",
        "geracoesIguais = 0\n",
        "\n",
        "for _ in range(N_GENERATIONS):\n",
        "    \n",
        "    print('----')\n",
        "    print('Geração', _)\n",
        "    #print('População inicial:\\n', pop)\n",
        "    print('População: ', translateDNA(pop))\n",
        "    F_values = F(translateDNA(pop))    # compute function value by extracting DNA\n",
        "    #print('Saídas da função:', F_values, ' em decimal')\n",
        "    \n",
        "    # GA part (evolution)\n",
        "    fitness = get_fitness(F_values)\n",
        "    \n",
        "    print('Fitness: ', fitness)\n",
        "    print(\"Most fitted DNA: \", pop[np.argmax(fitness), :])\n",
        "    print('Most fitted DNA (DECIMAL): ', translateDNA(pop[np.argmax(fitness), :]))\n",
        "    \n",
        "    pop = select(pop, fitness)\n",
        "    pop_copy = pop.copy()\n",
        "    \n",
        "    for parent in pop:\n",
        "        child = crossover(parent, pop_copy)\n",
        "        child = mutate(child)\n",
        "        parent[:] = child       # parent is replaced by its child\n",
        "    #print('----')\n",
        "\n",
        "    if((pop == pop_copy).all()):\n",
        "        geracoesIguais+=1\n",
        "        print('----- Geração igual ', geracoesIguais, ' -----')\n",
        "        print('gerações iguais')\n",
        "        print('Pop anterior: ', translateDNA(pop_copy))\n",
        "        print('Pop filhos: ', translateDNA(pop))\n",
        "        \n",
        "    if(geracoesIguais > 4): break\n"
      ],
      "execution_count": 0,
      "outputs": [
        {
          "output_type": "stream",
          "text": [
            "----\n",
            "Geração 0\n",
            "População:  [12 21 56  7 43 40]\n",
            "Fitness:  [29.92 26.95  0.   30.87 12.87 15.36]\n",
            "Most fitted DNA:  [0 0 0 1 1 1]\n",
            "Most fitted DNA (DECIMAL):  7\n",
            "----\n",
            "Geração 1\n",
            "População:  [ 5  7 20 12  7 13]\n",
            "Fitness:  [3.75 3.51 0.   2.56 3.51 2.31]\n",
            "Most fitted DNA:  [0 0 0 1 0 1]\n",
            "Most fitted DNA (DECIMAL):  5\n"
          ],
          "name": "stdout"
        }
      ]
    },
    {
      "cell_type": "code",
      "metadata": {
        "id": "D-XL1Vay5XpD",
        "colab_type": "code",
        "colab": {}
      },
      "source": [
        ""
      ],
      "execution_count": 0,
      "outputs": []
    }
  ]
}